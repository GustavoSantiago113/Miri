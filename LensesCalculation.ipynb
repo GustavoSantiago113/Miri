{
 "cells": [
  {
   "attachments": {},
   "cell_type": "markdown",
   "metadata": {},
   "source": [
    "# Scripts to calculate the radius of the sphere and distance between them"
   ]
  },
  {
   "attachments": {},
   "cell_type": "markdown",
   "metadata": {},
   "source": [
    "## Inputing information of both cellphone lens and sphere"
   ]
  },
  {
   "cell_type": "code",
   "execution_count": 16,
   "metadata": {},
   "outputs": [
    {
     "name": "stdout",
     "output_type": "stream",
     "text": [
      "The radius of the sphere should be: 0.0010005002501250625\n",
      "The distance between the sphere and the thin lens should be: 2.001000500250125\n"
     ]
    }
   ],
   "source": [
    "def calculate_lens_parameters(magnification, f2):\n",
    "    magnification = abs(magnification)  # Ensure magnification is positive\n",
    "\n",
    "    # Calculate the radius of the sphere\n",
    "    r = f2 / (magnification - 1)\n",
    "\n",
    "    # Calculate the distance between the sphere and the thin lens\n",
    "    d = (magnification * f2) / (magnification - 1)\n",
    "\n",
    "    return r, d\n",
    "\n",
    "# Example usage\n",
    "magnification = float(input(\"Enter the desired amplification: \"))\n",
    "f2 = float(input(\"Enter the focal length of the thin lens: \"))\n",
    "\n",
    "r, d = calculate_lens_parameters(magnification, f2)\n",
    "print(\"The radius of the sphere should be:\", r)\n",
    "print(\"The distance between the sphere and the thin lens should be:\", d)"
   ]
  },
  {
   "attachments": {},
   "cell_type": "markdown",
   "metadata": {},
   "source": [
    "## Inputing information of only the sphere"
   ]
  },
  {
   "cell_type": "code",
   "execution_count": null,
   "metadata": {},
   "outputs": [],
   "source": [
    "def calculate_sphere_radius(magnification):\n",
    "    magnification = abs(magnification)  # Ensure magnification is positive\n",
    "\n",
    "    # Calculate the radius of the sphere\n",
    "    r = 1 / (magnification - 1)\n",
    "\n",
    "    return r\n",
    "\n",
    "# Example usage\n",
    "magnification = float(input(\"Enter the desired magnification: \"))\n",
    "\n",
    "r = calculate_sphere_radius(magnification)\n",
    "print(\"The radius of the sphere should be:\", r)"
   ]
  },
  {
   "attachments": {},
   "cell_type": "markdown",
   "metadata": {},
   "source": [
    "## Using several spheres of unique size"
   ]
  },
  {
   "cell_type": "code",
   "execution_count": 15,
   "metadata": {},
   "outputs": [
    {
     "name": "stdout",
     "output_type": "stream",
     "text": [
      "The number of spheres required is: 1.0005002501250626\n",
      "The effective focal length of the combined system is: 0.0010005002501250625\n"
     ]
    }
   ],
   "source": [
    "def calculate_number_of_spheres(magnification, sphere_radius):\n",
    "    magnification = abs(magnification)  # Ensure magnification is positive\n",
    "\n",
    "    # Calculate the effective focal length of the combined system\n",
    "    effective_focal_length = 2 * sphere_radius / (magnification - 1)\n",
    "\n",
    "    # Calculate the number of spheres required\n",
    "    num_spheres = magnification / (magnification - 1)\n",
    "\n",
    "    return num_spheres, effective_focal_length\n",
    "\n",
    "# Example usage\n",
    "magnification = float(input(\"Enter the desired magnification: \"))\n",
    "sphere_radius = float(input(\"Enter the radius of the sphere: \"))\n",
    "\n",
    "num_spheres, effective_focal_length = calculate_number_of_spheres(magnification, sphere_radius)\n",
    "print(\"The number of spheres required is:\", num_spheres)\n",
    "print(\"The effective focal length of the combined system is:\", effective_focal_length)"
   ]
  },
  {
   "attachments": {},
   "cell_type": "markdown",
   "metadata": {},
   "source": [
    "## Using several spheres of unique size and considering the cellphone lens"
   ]
  },
  {
   "cell_type": "code",
   "execution_count": 9,
   "metadata": {},
   "outputs": [
    {
     "name": "stdout",
     "output_type": "stream",
     "text": [
      "The number of spheres required is: 1.0101010101010102\n",
      "The distance between the combined system of spheres and the thin lens is: -0.020408163265306124\n"
     ]
    }
   ],
   "source": [
    "def calculate_lens_system_parameters(sphere_radius, f2, magnification):\n",
    "    magnification = abs(magnification)  # Ensure magnification is positive\n",
    "\n",
    "    # Calculate the effective focal length of the combined system\n",
    "    effective_focal_length = 2 * sphere_radius / (magnification - 1)\n",
    "\n",
    "    # Calculate the number of spheres required\n",
    "    num_spheres = magnification / (magnification - 1)\n",
    "\n",
    "    # Calculate the distance between the combined system of spheres and the thin lens\n",
    "    d = (effective_focal_length * f2) / (effective_focal_length - f2)\n",
    "\n",
    "    return num_spheres, d\n",
    "\n",
    "# Example usage\n",
    "sphere_radius = float(input(\"Enter the radius of the sphere: \"))\n",
    "f2 = float(input(\"Enter the focal length of the thin lens: \"))\n",
    "magnification = float(input(\"Enter the desired magnification: \"))\n",
    "\n",
    "num_spheres, d = calculate_lens_system_parameters(sphere_radius, f2, magnification)\n",
    "print(\"The number of spheres required is:\", num_spheres)\n",
    "print(\"The distance between the combined system of spheres and the thin lens is:\", d)"
   ]
  },
  {
   "attachments": {},
   "cell_type": "markdown",
   "metadata": {},
   "source": [
    "## Focal length of a sphere"
   ]
  },
  {
   "cell_type": "code",
   "execution_count": 4,
   "metadata": {},
   "outputs": [
    {
     "name": "stdout",
     "output_type": "stream",
     "text": [
      "The focal length of the spherical lens is: -0.3942652329749104\n"
     ]
    }
   ],
   "source": [
    "def calculate_focal_length(radius, refractive_index):\n",
    "    # Calculate the focal length of the spherical lens\n",
    "    focal_length = (refractive_index - 1) / (refractive_index * (1 / radius - 1))\n",
    "\n",
    "    return focal_length\n",
    "\n",
    "# Example usage\n",
    "radius = float(input(\"Enter the radius of the spherical lens: \"))\n",
    "refractive_index = float(input(\"Enter the refractive index of the material: \"))\n",
    "\n",
    "focal_length = calculate_focal_length(radius, refractive_index)\n",
    "print(\"The focal length of the spherical lens is:\", focal_length)"
   ]
  },
  {
   "attachments": {},
   "cell_type": "markdown",
   "metadata": {},
   "source": [
    "## Using lens 1 as the sphere and the lens 2 as the cellphone lens"
   ]
  },
  {
   "cell_type": "code",
   "execution_count": null,
   "metadata": {},
   "outputs": [],
   "source": [
    "def calculate_lens_parameters(f1, f2, magnification):\n",
    "    magnification = abs(magnification)  # Ensure magnification is positive\n",
    "\n",
    "    # Calculate the number of Lens 1 units required\n",
    "    num_lens_1 = magnification * (f2 - f1) / (f1 * f2)\n",
    "\n",
    "    # Calculate the distance between the combined lens system and Lens 2\n",
    "    d = f2 - (1 / ((1 / f1) + (num_lens_1 / f1)))\n",
    "\n",
    "    return num_lens_1, d\n",
    "\n",
    "# Example usage\n",
    "f1 = float(input(\"Enter the focal length of Lens 1: \"))\n",
    "f2 = float(input(\"Enter the focal length of Lens 2: \"))\n",
    "magnification = float(input(\"Enter the desired magnification: \"))\n",
    "\n",
    "num_lens_1, d = calculate_lens_parameters(f1, f2, magnification)\n",
    "print(\"The number of Lens 1 units required is:\", num_lens_1)\n",
    "print(\"The distance between the combined lens system and Lens 2 is:\", d)"
   ]
  },
  {
   "cell_type": "markdown",
   "metadata": {},
   "source": []
  },
  {
   "cell_type": "code",
   "execution_count": 5,
   "metadata": {},
   "outputs": [
    {
     "name": "stdout",
     "output_type": "stream",
     "text": [
      "The distance of the image is: -0.00019709854927463732\n",
      "The number of lenses required is: -0.0005002501250625312\n"
     ]
    }
   ],
   "source": [
    "def calculate_image_distance(f, magnification):\n",
    "    # Calculate the distance of the image using the lens formula\n",
    "    image_distance = f / (1 - magnification)\n",
    "\n",
    "    return image_distance\n",
    "\n",
    "def calculate_num_lenses(image_distance, f):\n",
    "    # Calculate the number of lenses required based on the image distance and focal length\n",
    "    num_lenses = image_distance / f\n",
    "\n",
    "    return num_lenses\n",
    "\n",
    "# Example usage\n",
    "f = float(input(\"Enter the focal length of the lens: \"))\n",
    "magnification = float(input(\"Enter the desired magnification: \"))\n",
    "\n",
    "image_distance = calculate_image_distance(f, magnification)\n",
    "num_lenses = calculate_num_lenses(image_distance, f)\n",
    "\n",
    "print(\"The distance of the image is:\", image_distance)\n",
    "print(\"The number of lenses required is:\", num_lenses)"
   ]
  }
 ],
 "metadata": {
  "kernelspec": {
   "display_name": "base",
   "language": "python",
   "name": "python3"
  },
  "language_info": {
   "codemirror_mode": {
    "name": "ipython",
    "version": 3
   },
   "file_extension": ".py",
   "mimetype": "text/x-python",
   "name": "python",
   "nbconvert_exporter": "python",
   "pygments_lexer": "ipython3",
   "version": "3.9.12"
  },
  "orig_nbformat": 4
 },
 "nbformat": 4,
 "nbformat_minor": 2
}
