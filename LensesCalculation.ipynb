{
 "cells": [
  {
   "attachments": {},
   "cell_type": "markdown",
   "metadata": {},
   "source": [
    "# Scripts to calculate the radius of the sphere and distance between them"
   ]
  },
  {
   "attachments": {},
   "cell_type": "markdown",
   "metadata": {},
   "source": [
    "## Inputing information of both cellphone lens and sphere"
   ]
  },
  {
   "cell_type": "code",
   "execution_count": null,
   "metadata": {},
   "outputs": [],
   "source": [
    "def calculate_lens_parameters(magnification, f2):\n",
    "    magnification = abs(magnification)  # Ensure magnification is positive\n",
    "\n",
    "    # Calculate the radius of the sphere\n",
    "    r = f2 / (magnification - 1)\n",
    "\n",
    "    # Calculate the distance between the sphere and the thin lens\n",
    "    d = (magnification * f2) / (magnification - 1)\n",
    "\n",
    "    return r, d\n",
    "\n",
    "# Example usage\n",
    "magnification = float(input(\"Enter the desired amplification: \"))\n",
    "f2 = float(input(\"Enter the focal length of the thin lens: \"))\n",
    "\n",
    "r, d = calculate_lens_parameters(magnification, f2)\n",
    "print(\"The radius of the sphere should be:\", r)\n",
    "print(\"The distance between the sphere and the thin lens should be:\", d)"
   ]
  },
  {
   "attachments": {},
   "cell_type": "markdown",
   "metadata": {},
   "source": [
    "## Inputing information of only the sphere"
   ]
  },
  {
   "cell_type": "code",
   "execution_count": null,
   "metadata": {},
   "outputs": [],
   "source": [
    "def calculate_sphere_radius(magnification):\n",
    "    magnification = abs(magnification)  # Ensure magnification is positive\n",
    "\n",
    "    # Calculate the radius of the sphere\n",
    "    r = 1 / (magnification - 1)\n",
    "\n",
    "    return r\n",
    "\n",
    "# Example usage\n",
    "magnification = float(input(\"Enter the desired magnification: \"))\n",
    "\n",
    "r = calculate_sphere_radius(magnification)\n",
    "print(\"The radius of the sphere should be:\", r)"
   ]
  },
  {
   "attachments": {},
   "cell_type": "markdown",
   "metadata": {},
   "source": [
    "## Using several spheres of unique size"
   ]
  },
  {
   "cell_type": "code",
   "execution_count": null,
   "metadata": {},
   "outputs": [],
   "source": [
    "def calculate_number_of_spheres(magnification, sphere_radius):\n",
    "    magnification = abs(magnification)  # Ensure magnification is positive\n",
    "\n",
    "    # Calculate the effective focal length of the combined system\n",
    "    effective_focal_length = 2 * sphere_radius / (magnification - 1)\n",
    "\n",
    "    # Calculate the number of spheres required\n",
    "    num_spheres = magnification / (magnification - 1)\n",
    "\n",
    "    return num_spheres, effective_focal_length\n",
    "\n",
    "# Example usage\n",
    "magnification = float(input(\"Enter the desired magnification: \"))\n",
    "sphere_radius = float(input(\"Enter the radius of the sphere: \"))\n",
    "\n",
    "num_spheres, effective_focal_length = calculate_number_of_spheres(magnification, sphere_radius)\n",
    "print(\"The number of spheres required is:\", num_spheres)\n",
    "print(\"The effective focal length of the combined system is:\", effective_focal_length)"
   ]
  },
  {
   "attachments": {},
   "cell_type": "markdown",
   "metadata": {},
   "source": [
    "## Using several spheres of unique size plus considering the cellphone lens"
   ]
  },
  {
   "cell_type": "code",
   "execution_count": null,
   "metadata": {},
   "outputs": [],
   "source": []
  }
 ],
 "metadata": {
  "kernelspec": {
   "display_name": "base",
   "language": "python",
   "name": "python3"
  },
  "language_info": {
   "codemirror_mode": {
    "name": "ipython",
    "version": 3
   },
   "file_extension": ".py",
   "mimetype": "text/x-python",
   "name": "python",
   "nbconvert_exporter": "python",
   "pygments_lexer": "ipython3",
   "version": "3.9.13"
  },
  "orig_nbformat": 4
 },
 "nbformat": 4,
 "nbformat_minor": 2
}
