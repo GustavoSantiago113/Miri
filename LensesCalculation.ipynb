{
 "cells": [
  {
   "attachments": {},
   "cell_type": "markdown",
   "metadata": {},
   "source": [
    "# Script to calculate microscope parameters\n",
    "This function can calculate, via user inputs, the following parameters:\n",
    "* Distance microscope-cellphone and;\n",
    "* Number of spheres.\n",
    "\n",
    "The user just need to input:\n",
    "* Sphere radius;\n",
    "* Distance object-microscope;\n",
    "* Refraction idex of spheres and;\n",
    "* Desired magnification."
   ]
  },
  {
   "cell_type": "code",
   "execution_count": 5,
   "metadata": {},
   "outputs": [
    {
     "name": "stdout",
     "output_type": "stream",
     "text": [
      "The distance microscope-cellphone is:  0.9989910190707385\n",
      "The number of spheres is/are:  0.0014231818181818182\n"
     ]
    }
   ],
   "source": [
    "def miri_parameters(sphereRadius, distanceOM, refractionIndex, magnification):\n",
    "\n",
    "    Fff = (distanceOM / ((1/magnification) + 1)) * 1000\n",
    "    numberOfSpheres = (sphereRadius * refractionIndex) / (Fff * 2*(refractionIndex - 1))\n",
    "    distanceMC = (Fff * distanceOM) / (distanceOM + Fff)\n",
    "\n",
    "    return distanceMC, numberOfSpheres\n",
    "\n",
    "sphereRadius = float(input(\"Input the sphere radius: \"))\n",
    "distanceOM = float(input(\"Input the distance object-microscope: \"))\n",
    "refractionIndex = float(input(\"Input the refraction index of the spheres: \"))\n",
    "magnification = float(input(\"Input the desired magnification: \"))\n",
    "\n",
    "print(\"The distance microscope-cellphone is: \", miri_parameters(sphereRadius, distanceOM, refractionIndex, magnification)[0])\n",
    "print(\"The number of spheres is/are: \", miri_parameters(sphereRadius, distanceOM, refractionIndex, magnification)[1])"
   ]
  }
 ],
 "metadata": {
  "kernelspec": {
   "display_name": "base",
   "language": "python",
   "name": "python3"
  },
  "language_info": {
   "codemirror_mode": {
    "name": "ipython",
    "version": 3
   },
   "file_extension": ".py",
   "mimetype": "text/x-python",
   "name": "python",
   "nbconvert_exporter": "python",
   "pygments_lexer": "ipython3",
   "version": "3.9.12"
  },
  "orig_nbformat": 4
 },
 "nbformat": 4,
 "nbformat_minor": 2
}
